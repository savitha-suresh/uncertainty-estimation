{
 "cells": [
  {
   "cell_type": "code",
   "execution_count": 26,
   "id": "1382a275-f89d-4fbe-8059-a54139a29502",
   "metadata": {},
   "outputs": [
    {
     "name": "stdout",
     "output_type": "stream",
     "text": [
      "pyTorch Available: True\n",
      "CUDA Device Count: 1\n",
      "CUDA Current Device: 0\n",
      "CUDA Device Name: NVIDIA GeForce RTX 4050 Laptop GPU\n",
      "pyTorch Version:  2.5.1\n",
      "pyTorch CUDA Version:  12.1\n",
      "cuda\n"
     ]
    }
   ],
   "source": [
    "import torch\n",
    "from matplotlib import pyplot as plt\n",
    "import torch.nn.functional as F\n",
    "import numpy as np\n",
    "import matplotlib.pyplot as plt\n",
    "from sklearn.datasets import make_moons\n",
    "from sklearn.datasets import make_swiss_roll\n",
    "from torch.utils.data import DataLoader, TensorDataset\n",
    "import torch.nn.functional as F\n",
    "import torch.nn as nn\n",
    "import torch.optim as optim\n",
    "from typing import Tuple\n",
    "import seaborn as sns\n",
    "from tqdm import trange\n",
    "import torchvision\n",
    "import torchvision.transforms as transforms\n",
    "import os\n",
    "import pandas as pd\n",
    "\n",
    "data_dir = \"./data\"\n",
    "\n",
    "\n",
    "print(\"pyTorch Available:\", torch.cuda.is_available())\n",
    "if torch.cuda.is_available():\n",
    "    print(\"CUDA Device Count:\", torch.cuda.device_count())\n",
    "    print(\"CUDA Current Device:\", torch.cuda.current_device())\n",
    "    print(\"CUDA Device Name:\", torch.cuda.get_device_name(0))\n",
    "        \n",
    "\n",
    "    print(\"pyTorch Version: \", torch.__version__)\n",
    "    print(\"pyTorch CUDA Version: \", torch.version.cuda)\n",
    "#torch.cuda.set_device(0)\n",
    "device = torch.device(\"cuda\" if torch.cuda.is_available() else \"cpu\")\n",
    "print(device)"
   ]
  },
  {
   "cell_type": "markdown",
   "id": "287b0b76-a967-4564-9826-5f5added77e8",
   "metadata": {},
   "source": [
    "### Loading Data"
   ]
  },
  {
   "cell_type": "code",
   "execution_count": 15,
   "id": "c8d11535-1650-449d-bcef-c478abe66a5a",
   "metadata": {},
   "outputs": [
    {
     "name": "stdout",
     "output_type": "stream",
     "text": [
      "Loading of Dataset Complete!\n",
      "Data directory: ./data\n"
     ]
    }
   ],
   "source": [
    "transform = transforms.ToTensor()\n",
    "train_dataset = torchvision.datasets.FashionMNIST(\n",
    "    root= data_dir, \n",
    "    train=True, \n",
    "    download=True, \n",
    "    transform=transform)\n",
    "test_dataset = torchvision.datasets.FashionMNIST(\n",
    "    root=data_dir,\n",
    "    train=False,\n",
    "    download=True,\n",
    "    transform=transform\n",
    ")\n",
    "print(f\"Loading of Dataset Complete!\")\n",
    "print(f\"Data directory: {data_dir}\")"
   ]
  },
  {
   "cell_type": "code",
   "execution_count": 16,
   "id": "507bd28f-ae03-48fd-9374-ce2f2c36d654",
   "metadata": {},
   "outputs": [
    {
     "name": "stdout",
     "output_type": "stream",
     "text": [
      "Dataset FashionMNIST\n",
      "    Number of datapoints: 60000\n",
      "    Root location: ./data\n",
      "    Split: Train\n",
      "    StandardTransform\n",
      "Transform: ToTensor()\n",
      "Dataset FashionMNIST\n",
      "    Number of datapoints: 10000\n",
      "    Root location: ./data\n",
      "    Split: Test\n",
      "    StandardTransform\n",
      "Transform: ToTensor()\n"
     ]
    }
   ],
   "source": [
    "print(train_dataset)\n",
    "print(test_dataset)"
   ]
  },
  {
   "cell_type": "code",
   "execution_count": 17,
   "id": "1934ddf5-c785-4c2e-802f-e8f222b3bd9b",
   "metadata": {},
   "outputs": [
    {
     "name": "stdout",
     "output_type": "stream",
     "text": [
      "Training set size: 60000 samples\n",
      "Training set size: 10000 samples\n"
     ]
    }
   ],
   "source": [
    "print(f\"Training set size: {len(train_dataset)} samples\")\n",
    "print(f\"Training set size: {len(test_dataset)} samples\")"
   ]
  },
  {
   "cell_type": "code",
   "execution_count": 23,
   "id": "1b5bbeb7-9ae6-44a5-8590-20c2a0d85502",
   "metadata": {},
   "outputs": [],
   "source": [
    "csv_dir = \"./data_preparation\"\n",
    "os.makedirs(csv_dir, exist_ok=True)"
   ]
  },
  {
   "cell_type": "code",
   "execution_count": 24,
   "id": "b1313dd2-7a25-48a1-9699-b40752a784e0",
   "metadata": {},
   "outputs": [],
   "source": [
    "def save_to_csv(dataset, filename):\n",
    "    data_list = []\n",
    "    for img, label in dataset:\n",
    "        # Flatten the image tensor and convert to a list\n",
    "        img_flat = img.view(-1).tolist()\n",
    "        data_list.append([label] + img_flat)\n",
    "\n",
    "    # Create a DataFrame\n",
    "    columns = ['label'] + [f'pixel_{i}' for i in range(len(img_flat))]\n",
    "    df = pd.DataFrame(data_list, columns=columns)\n",
    "\n",
    "    # Save the DataFrame as a CSV file in the data_preparation directory\n",
    "    csv_path = os.path.join(csv_dir, filename)\n",
    "    df.to_csv(csv_path, index=False)\n",
    "    print(f\"✅ Saved {filename} to {csv_dir}\")"
   ]
  },
  {
   "cell_type": "code",
   "execution_count": 27,
   "id": "361b0028-3b82-46bb-a2e5-99be159f20a4",
   "metadata": {},
   "outputs": [
    {
     "name": "stdout",
     "output_type": "stream",
     "text": [
      "✅ Saved train_data.csv to ./data_preparation\n",
      "✅ Saved test_data.csv to ./data_preparation\n",
      "Data successfully saved to the data_preparation directory!\n"
     ]
    }
   ],
   "source": [
    "save_to_csv(train_dataset, \"train_data.csv\")\n",
    "save_to_csv(test_dataset, \"test_data.csv\")\n",
    "print(\"Data successfully saved to the data_preparation directory!\")"
   ]
  },
  {
   "cell_type": "code",
   "execution_count": null,
   "id": "56d32834-3c66-419a-bc4c-6eb5e0ca9ecd",
   "metadata": {},
   "outputs": [],
   "source": []
  }
 ],
 "metadata": {
  "kernelspec": {
   "display_name": "Python 3 (ipykernel)",
   "language": "python",
   "name": "python3"
  },
  "language_info": {
   "codemirror_mode": {
    "name": "ipython",
    "version": 3
   },
   "file_extension": ".py",
   "mimetype": "text/x-python",
   "name": "python",
   "nbconvert_exporter": "python",
   "pygments_lexer": "ipython3",
   "version": "3.12.9"
  }
 },
 "nbformat": 4,
 "nbformat_minor": 5
}
